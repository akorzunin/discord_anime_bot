{
 "cells": [
  {
   "cell_type": "code",
   "execution_count": null,
   "metadata": {},
   "outputs": [],
   "source": [
    "import discord\n",
    "import asyncio\n",
    "from anime_picture import AnimePicture\n",
    "from categories_list import categories, nsfw_categories\n",
    "\n",
    "from datetime import datetime\n",
    "from time import sleep\n",
    "\n",
    "from discord.ext import commands"
   ]
  },
  {
   "cell_type": "code",
   "execution_count": null,
   "metadata": {},
   "outputs": [],
   "source": [
    "a = AnimePicture()"
   ]
  },
  {
   "cell_type": "code",
   "execution_count": null,
   "metadata": {},
   "outputs": [],
   "source": [
    "def test(*args):\n",
    "    print(args)\n",
    "    category = args[0] if args[0] != None else 'waifu'\n",
    "    amount = args[1] if args[1] != None else 1\n",
    "    # category, amount = msg.split(' ')\n",
    "    if (amount != None) and (category != None):\n",
    "        data = a.get_urls(amount, category=category)\n",
    "        for i in data:\n",
    "            print(i)\n",
    "            sleep(1)\n",
    "    else: \n",
    "        data = a.get_url(category)\n",
    "        # await ctx.send(data)\n",
    "        print(data)"
   ]
  },
  {
   "cell_type": "code",
   "execution_count": null,
   "metadata": {},
   "outputs": [],
   "source": [
    "print(\"test('gw')\")\n",
    "test()\n",
    "print(\"test('gw 3')\")\n",
    "test(' 3')\n",
    "print(\"test('neko')\")\n",
    "test('neko')\n",
    "print(\"test('neko 3')\")\n",
    "test('neko 3')\n",
    "print(\"test('gwr') # random among all aval categories, random one\")\n",
    "test('r') # random among all aval categories, random one\n",
    "print(\"test('gwr 2') # random among all aval categories\")\n",
    "test('r 2') # random among all aval categories"
   ]
  },
  {
   "cell_type": "code",
   "execution_count": 33,
   "metadata": {},
   "outputs": [
    {
     "ename": "SyntaxError",
     "evalue": "invalid syntax (<ipython-input-33-e0d6cbb3ebf8>, line 17)",
     "output_type": "error",
     "traceback": [
      "\u001b[1;36m  File \u001b[1;32m\"<ipython-input-33-e0d6cbb3ebf8>\"\u001b[1;36m, line \u001b[1;32m17\u001b[0m\n\u001b[1;33m    elif: pass\u001b[0m\n\u001b[1;37m        ^\u001b[0m\n\u001b[1;31mSyntaxError\u001b[0m\u001b[1;31m:\u001b[0m invalid syntax\n"
     ]
    }
   ],
   "source": [
    "arr = ('som', 'text', '🐍', 'text', 'after')\n",
    "arr = ('neko', '3', )\n",
    "arr = ('neko', )\n",
    "arr = ('2')\n",
    "# check if first argument is integer\n",
    "try:\n",
    "    nt = arr[0]\n",
    "except IndexError:\n",
    "    category = get_random_category()\n",
    "    amount = 1\n",
    "    # return\n",
    "try:\n",
    "    pog = int(nt)\n",
    "except ValueError: pog = str(nt)\n",
    "if isinstance(pog, int): \n",
    "    category = get_random_category()\n",
    "    amount = nt\n",
    "    # return\n",
    "# if second argument exist\n",
    "try: \n",
    "    nt2 = arr[1]\n",
    "except IndexError:\n",
    "    # if there is no second argument \n",
    "    category = arr[0]\n",
    "    amount = 1\n",
    "    # return\n",
    "# if second argument is integer\n",
    "try:\n",
    "    pog = int(nt2)\n",
    "except ValueError: pog = str(nt2)\n",
    "if isinstance(pog, int): \n",
    "    category = arr[0]\n",
    "    amount = nt2\n",
    "    # return\n"
   ]
  },
  {
   "cell_type": "code",
   "execution_count": 35,
   "metadata": {},
   "outputs": [
    {
     "data": {
      "text/plain": [
       "'waifu'"
      ]
     },
     "execution_count": 35,
     "metadata": {},
     "output_type": "execute_result"
    }
   ],
   "source": [
    "get_random_category = lambda: 'waifu'\n",
    "get_random_category()"
   ]
  },
  {
   "cell_type": "code",
   "execution_count": 30,
   "metadata": {},
   "outputs": [
    {
     "data": {
      "text/plain": [
       "False"
      ]
     },
     "execution_count": 30,
     "metadata": {},
     "output_type": "execute_result"
    }
   ],
   "source": [
    "nt = 'asdf'\n",
    "try:\n",
    "    pog = int(nt)\n",
    "except ValueError: pog = str(nt)\n",
    "isinstance(pog, int)"
   ]
  },
  {
   "cell_type": "code",
   "execution_count": 32,
   "metadata": {},
   "outputs": [],
   "source": [
    "arr = []\n",
    "try: \n",
    "    arr[0]\n",
    "except IndexError: 1"
   ]
  }
 ],
 "metadata": {
  "interpreter": {
   "hash": "1687936d6353d22bca9506b6e8c73c561f18a996b286925e3477401c8213fb94"
  },
  "kernelspec": {
   "display_name": "Python 3.9.9 64-bit (windows store)",
   "language": "python",
   "name": "python3"
  },
  "language_info": {
   "codemirror_mode": {
    "name": "ipython",
    "version": 3
   },
   "file_extension": ".py",
   "mimetype": "text/x-python",
   "name": "python",
   "nbconvert_exporter": "python",
   "pygments_lexer": "ipython3",
   "version": "3.9.9"
  },
  "orig_nbformat": 4
 },
 "nbformat": 4,
 "nbformat_minor": 2
}
