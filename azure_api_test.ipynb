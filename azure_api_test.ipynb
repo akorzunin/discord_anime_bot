{
 "cells": [
  {
   "cell_type": "code",
   "execution_count": null,
   "metadata": {},
   "outputs": [],
   "source": [
    "import requests\n",
    "# import json"
   ]
  },
  {
   "cell_type": "code",
   "execution_count": null,
   "metadata": {},
   "outputs": [],
   "source": [
    "url = 'https://formidable.kashima.moe/ships/random'\n",
    "r = requests.get(url, )"
   ]
  },
  {
   "cell_type": "code",
   "execution_count": null,
   "metadata": {},
   "outputs": [],
   "source": [
    "data =r.json()\n",
    "# data = json.dumps(r.text)\n",
    "s = data['skins']\n",
    "for i in s:\n",
    "    print(i['image'])"
   ]
  },
  {
   "cell_type": "code",
   "execution_count": null,
   "metadata": {},
   "outputs": [],
   "source": [
    "# a =[]\n",
    "# a[0]\n",
    "s = 'azure lane'\n",
    "s.replace(' ', '+')"
   ]
  },
  {
   "cell_type": "code",
   "execution_count": null,
   "metadata": {},
   "outputs": [],
   "source": [
    "a = []\n",
    "a[0]"
   ]
  },
  {
   "cell_type": "code",
   "execution_count": null,
   "metadata": {},
   "outputs": [],
   "source": [
    "# d = 'asdfew'\n",
    "# isinstance(int(d), int)\n",
    "v = ('id', '001')\n",
    "try:\n",
    "    id = int(v[1])\n",
    "except ValueError: print('invalid')\n",
    "id"
   ]
  },
  {
   "cell_type": "code",
   "execution_count": null,
   "metadata": {},
   "outputs": [],
   "source": [
    "a = ('name', 'jean', 'bart')\n",
    "'+'.join(a[1:])"
   ]
  },
  {
   "cell_type": "code",
   "execution_count": null,
   "metadata": {},
   "outputs": [],
   "source": [
    "# print(args)\n",
    "a = ('name', 'Cassin', )\n",
    "url_name = '+'.join(a[1:])\n",
    "# url_name = '+'.join(args[1:])\n",
    "url = f'https://formidable.kashima.moe/ships/class?name={url_name}'\n",
    "# else:    \n",
    "#     url_name = name.replace(' ', '+')\n",
    "    \n",
    "r = requests.get(url, )\n",
    "data =r.json()\n",
    "# data = json.dumps(r.text)\n",
    "# s = data['skins']\n",
    "len(data) == 0\n",
    "# o = data[0]['skins']\n",
    "# for i in o:\n",
    "#     print(i['image'])"
   ]
  },
  {
   "cell_type": "code",
   "execution_count": 62,
   "metadata": {},
   "outputs": [
    {
     "data": {
      "text/plain": [
       "True"
      ]
     },
     "execution_count": 62,
     "metadata": {},
     "output_type": "execute_result"
    }
   ],
   "source": [
    "import platform\n",
    "platform.system() == \"Windows\""
   ]
  }
 ],
 "metadata": {
  "interpreter": {
   "hash": "1687936d6353d22bca9506b6e8c73c561f18a996b286925e3477401c8213fb94"
  },
  "kernelspec": {
   "display_name": "Python 3.9.9 64-bit (windows store)",
   "language": "python",
   "name": "python3"
  },
  "language_info": {
   "codemirror_mode": {
    "name": "ipython",
    "version": 3
   },
   "file_extension": ".py",
   "mimetype": "text/x-python",
   "name": "python",
   "nbconvert_exporter": "python",
   "pygments_lexer": "ipython3",
   "version": "3.9.9"
  },
  "orig_nbformat": 4
 },
 "nbformat": 4,
 "nbformat_minor": 2
}
